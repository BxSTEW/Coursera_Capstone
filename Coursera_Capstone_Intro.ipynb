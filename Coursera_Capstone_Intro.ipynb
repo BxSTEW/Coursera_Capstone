{
 "cells": [
  {
   "cell_type": "markdown",
   "metadata": {},
   "source": [
    "<h1> Capstone Project for IBM's Data Science course on Coursera"
   ]
  },
  {
   "cell_type": "markdown",
   "metadata": {},
   "source": [
    "<h2>Introduction"
   ]
  },
  {
   "cell_type": "markdown",
   "metadata": {},
   "source": [
    "With COVID-19 throwing the economic world into a frenzy many small businesses, and large corporate ones for that matter, have either filed for bankruptcy or closed their doors for good. Unfortunate as this is, up and coming entrepreneurs will face an unprecedented market of corporate real estate for new businesses. Restaurants, Bars/Pubs, Cafes, etc will have an opportunity to open in prime areas for foot traffic and income when the world returns to normalcy or creates a new normalcy after the COVID-19 threat has subsided."
   ]
  },
  {
   "cell_type": "markdown",
   "metadata": {},
   "source": [
    "<h2>Business Problem"
   ]
  },
  {
   "cell_type": "markdown",
   "metadata": {},
   "source": [
    "As an entrepreneur my client has expressed interest in the New York City(NYC) area for his new craft beer pub and lounge, but he wants to pick the right neighborhood for this establishment. With that problem we can assess the things required for his business venture, he will need a middle to upper class neighborhood or borough and an area where there are few other establishments like his but not completely devoid of other establishments. He would like a list of potential neighborhoods for his new start up that fit his criteria so he can start looking for open corporate real estate."
   ]
  },
  {
   "cell_type": "markdown",
   "metadata": {},
   "source": [
    "<h2>Data and Methodology"
   ]
  },
  {
   "cell_type": "markdown",
   "metadata": {},
   "source": [
    "I was able to procure the median household income for each borough and neighborhood in NYC from https://www.renthop.com/study/assets/new-york-city-cost-of-living-2017/nyc-2br-median-rent-and-income-table.html. I will then gather the longitude and latitude of each neighborhood. From there I will run a KMeans test to group like neighborhoods and look for those that fit the household income requirements set by the client (60K+). A new dataset will be created to only include the neighborhoods that fit the middle to upper class household incomes. Then the Foursquare API will be utilized to find the current percentages of venues in the neighborhoods that seem the most promising and from there analyze which neighborhoods would be ideal for my client.  "
   ]
  },
  {
   "cell_type": "code",
   "execution_count": null,
   "metadata": {},
   "outputs": [],
   "source": []
  }
 ],
 "metadata": {
  "kernelspec": {
   "display_name": "Python",
   "language": "python",
   "name": "conda-env-python-py"
  },
  "language_info": {
   "codemirror_mode": {
    "name": "ipython",
    "version": 3
   },
   "file_extension": ".py",
   "mimetype": "text/x-python",
   "name": "python",
   "nbconvert_exporter": "python",
   "pygments_lexer": "ipython3",
   "version": "3.6.10"
  }
 },
 "nbformat": 4,
 "nbformat_minor": 4
}
